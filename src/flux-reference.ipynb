{
 "cells": [
  {
   "cell_type": "code",
   "execution_count": 1,
   "id": "3cb6c934",
   "metadata": {},
   "outputs": [],
   "source": [
    "using Flux"
   ]
  },
  {
   "cell_type": "markdown",
   "id": "e1a88aea",
   "metadata": {},
   "source": [
    "## Training Only Specified Parameters\n",
    "\n",
    "Only the fields returned by trainable will be collected as trainable parameters of the layer when calling Flux.params."
   ]
  },
  {
   "cell_type": "markdown",
   "id": "30f9168b",
   "metadata": {},
   "source": [
    "Define custom layer as a struct with a constructor."
   ]
  },
  {
   "cell_type": "code",
   "execution_count": 3,
   "id": "d4102ab4",
   "metadata": {},
   "outputs": [],
   "source": [
    "struct Affine\n",
    "  W\n",
    "  b\n",
    "end"
   ]
  },
  {
   "cell_type": "code",
   "execution_count": 4,
   "id": "d6e6d72a",
   "metadata": {},
   "outputs": [
    {
     "data": {
      "text/plain": [
       "Affine"
      ]
     },
     "execution_count": 4,
     "metadata": {},
     "output_type": "execute_result"
    }
   ],
   "source": [
    "Affine(in::Integer, out::Integer) =\n",
    "  Affine(randn(out, in), randn(out))"
   ]
  },
  {
   "cell_type": "markdown",
   "id": "2d09169e",
   "metadata": {},
   "source": [
    "Overload the struct."
   ]
  },
  {
   "cell_type": "code",
   "execution_count": 5,
   "id": "ed016089",
   "metadata": {},
   "outputs": [],
   "source": [
    "(m::Affine)(x) = m.W * x .+ m.b"
   ]
  },
  {
   "cell_type": "markdown",
   "id": "9993457a",
   "metadata": {},
   "source": [
    "Suppose only $W$ needs to be trained. Overload the trainable function to return just $W$."
   ]
  },
  {
   "cell_type": "code",
   "execution_count": 8,
   "id": "bbaa14d3",
   "metadata": {},
   "outputs": [],
   "source": [
    "Flux.trainable(a::Affine) = (a.W,)"
   ]
  },
  {
   "cell_type": "markdown",
   "id": "b90450d5",
   "metadata": {},
   "source": [
    "An example with fake data."
   ]
  },
  {
   "cell_type": "code",
   "execution_count": 6,
   "id": "0c9b0f30",
   "metadata": {},
   "outputs": [
    {
     "data": {
      "text/plain": [
       "Affine([0.8608780682418017 -1.5395126915150943 … 1.1875546906171954 -0.28030155423215836], [0.4226600495054129])"
      ]
     },
     "execution_count": 6,
     "metadata": {},
     "output_type": "execute_result"
    }
   ],
   "source": [
    "a = Affine(5,1)"
   ]
  },
  {
   "cell_type": "code",
   "execution_count": 7,
   "id": "f8fcd0ee",
   "metadata": {},
   "outputs": [
    {
     "data": {
      "text/plain": [
       "1×2 Matrix{Float64}:\n",
       " 0.500636  0.116417"
      ]
     },
     "execution_count": 7,
     "metadata": {},
     "output_type": "execute_result"
    }
   ],
   "source": [
    "a(rand(5,2))"
   ]
  },
  {
   "cell_type": "markdown",
   "id": "25417ac6",
   "metadata": {},
   "source": [
    "Flux.params collects only parameters returned by trainable."
   ]
  },
  {
   "cell_type": "code",
   "execution_count": 12,
   "id": "18991433",
   "metadata": {},
   "outputs": [
    {
     "data": {
      "text/plain": [
       "Params([[0.8608780682418017 -1.5395126915150943 … 1.1875546906171954 -0.28030155423215836]])"
      ]
     },
     "execution_count": 12,
     "metadata": {},
     "output_type": "execute_result"
    }
   ],
   "source": [
    "ps = Flux.params(a)"
   ]
  },
  {
   "cell_type": "code",
   "execution_count": 13,
   "id": "49dd845c",
   "metadata": {},
   "outputs": [
    {
     "data": {
      "text/plain": [
       "1×100 Matrix{Float64}:\n",
       " 1.35773  1.14898  1.29776  1.41374  …  1.3741  1.53472  0.485464  1.35829"
      ]
     },
     "execution_count": 13,
     "metadata": {},
     "output_type": "execute_result"
    }
   ],
   "source": [
    "x = rand(5, 100)\n",
    "y = rand(1,5)*x"
   ]
  },
  {
   "cell_type": "code",
   "execution_count": 14,
   "id": "39367ca1",
   "metadata": {},
   "outputs": [
    {
     "data": {
      "text/plain": [
       "Grads(...)"
      ]
     },
     "execution_count": 14,
     "metadata": {},
     "output_type": "execute_result"
    }
   ],
   "source": [
    "gs = Flux.gradient(()->Flux.mse(a(x), y), Flux.params(a))"
   ]
  },
  {
   "cell_type": "code",
   "execution_count": 40,
   "id": "d8e35606",
   "metadata": {},
   "outputs": [
    {
     "data": {
      "text/plain": [
       "1"
      ]
     },
     "execution_count": 40,
     "metadata": {},
     "output_type": "execute_result"
    }
   ],
   "source": [
    "length(gs)"
   ]
  },
  {
   "cell_type": "markdown",
   "id": "a188d5a4",
   "metadata": {},
   "source": [
    "The gradient object only contains gradient wrt $W$."
   ]
  },
  {
   "cell_type": "code",
   "execution_count": 16,
   "id": "97c7e713",
   "metadata": {},
   "outputs": [
    {
     "data": {
      "text/plain": [
       "1×5 Matrix{Float64}:\n",
       " -0.344647  -0.914001  -0.455823  -0.288851  -0.440177"
      ]
     },
     "execution_count": 16,
     "metadata": {},
     "output_type": "execute_result"
    }
   ],
   "source": [
    "gs[a.W]"
   ]
  },
  {
   "cell_type": "markdown",
   "id": "ef926b36",
   "metadata": {},
   "source": [
    "A model with many layers. We want to train only $W$ of the second layer. The standard flux Dense layer object denotes $W$ by \"weight\"."
   ]
  },
  {
   "cell_type": "code",
   "execution_count": 35,
   "id": "1cdda42d",
   "metadata": {},
   "outputs": [
    {
     "data": {
      "text/plain": [
       "Chain(\n",
       "  Dense(5 => 3, relu),                  \u001b[90m# 18 parameters\u001b[39m\n",
       "  Dense(3 => 2, relu),                  \u001b[90m# 8 parameters\u001b[39m\n",
       "  Dense(2 => 1),                        \u001b[90m# 3 parameters\u001b[39m\n",
       ") "
      ]
     },
     "execution_count": 35,
     "metadata": {},
     "output_type": "execute_result"
    }
   ],
   "source": [
    "m = Chain(\n",
    "      Dense(5 => 3, relu),\n",
    "      Dense(3 => 2, relu),\n",
    "      Dense(2 => 1)\n",
    "    )"
   ]
  },
  {
   "cell_type": "code",
   "execution_count": 44,
   "id": "b0c6e9f0",
   "metadata": {},
   "outputs": [],
   "source": [
    "Flux.trainable(m::Chain) = (weight=m[2].weight,)"
   ]
  },
  {
   "cell_type": "code",
   "execution_count": 54,
   "id": "69e78bb1",
   "metadata": {},
   "outputs": [
    {
     "data": {
      "text/plain": [
       "((layers = ((weight = Float32[-0.34470168 -0.38269594 … -0.21690816 -0.30961356; 0.0 0.0 … 0.0 0.0; 0.0 0.0 … 0.0 0.0], bias = Float32[-0.53195184, 0.0, 0.0], σ = nothing), (weight = Float32[-0.08672465 0.0 0.0; -0.21705872 0.0 0.0], bias = Float32[-0.39137542, -0.97955364], σ = nothing), (weight = Float32[-0.08895962 -0.050059285], bias = Float32[-1.7786287], σ = nothing)),),)"
      ]
     },
     "execution_count": 54,
     "metadata": {},
     "output_type": "execute_result"
    }
   ],
   "source": [
    "ps = Flux.params(m)\n",
    "gs = Flux.gradient(m->Flux.mse(m(x), y), m)"
   ]
  },
  {
   "cell_type": "code",
   "execution_count": 50,
   "id": "46cfb45b",
   "metadata": {},
   "outputs": [
    {
     "data": {
      "text/plain": [
       "2×3 Matrix{Float32}:\n",
       " -0.0867246  0.0  0.0\n",
       " -0.217059   0.0  0.0"
      ]
     },
     "execution_count": 50,
     "metadata": {},
     "output_type": "execute_result"
    }
   ],
   "source": [
    "gs[m[2].weight]"
   ]
  },
  {
   "cell_type": "code",
   "execution_count": 48,
   "id": "f438ffe1",
   "metadata": {},
   "outputs": [
    {
     "data": {
      "text/plain": [
       "(weight = Float32[0.5643518 0.7329073 -0.8194195; 0.31757158 -0.039004058 -0.98523957],)"
      ]
     },
     "execution_count": 48,
     "metadata": {},
     "output_type": "execute_result"
    }
   ],
   "source": [
    "Flux.trainable(m)"
   ]
  },
  {
   "cell_type": "code",
   "execution_count": 41,
   "id": "c5e52e05",
   "metadata": {},
   "outputs": [
    {
     "name": "stdout",
     "output_type": "stream",
     "text": [
      "Float32[0.5018218 0.40540275 -0.6181809 -0.7249601 0.21906047; -0.009452393 -0.25717664 0.16760351 -0.4715247 -0.68426275; -0.49048844 -0.79621434 0.5623093 0.69380105 -0.19479854]Float32[0.0, 0.0, 0.0]\n",
      "Float32[0.5643518 0.7329073 -0.8194195; 0.31757158 -0.039004058 -0.98523957]Float32[0.0, 0.0]\n",
      "Float32[0.55017334 1.3770009]Float32[0.0]\n"
     ]
    }
   ],
   "source": [
    "for l in m.layers\n",
    "    println(l.weight, l.bias)\n",
    "end"
   ]
  },
  {
   "cell_type": "code",
   "execution_count": 53,
   "id": "0621775a",
   "metadata": {},
   "outputs": [
    {
     "ename": "LoadError",
     "evalue": "Optimisers.jl cannot be used with Zygote.jl's implicit gradients, `Params` & `Grads`",
     "output_type": "error",
     "traceback": [
      "Optimisers.jl cannot be used with Zygote.jl's implicit gradients, `Params` & `Grads`",
      "",
      "Stacktrace:",
      " [1] error(s::String)",
      "   @ Base ./error.jl:35",
      " [2] base(dx::Zygote.Grads)",
      "   @ Flux ~/.julia/packages/Flux/v79Am/src/Flux.jl:19",
      " [3] (::Optimisers.var\"#14#16\"{Chain{Tuple{Dense{typeof(relu), Matrix{Float32}, Vector{Float32}}, Dense{typeof(relu), Matrix{Float32}, Vector{Float32}}, Dense{typeof(identity), Matrix{Float32}, Vector{Float32}}}}})(x̄::Zygote.Grads)",
      "   @ Optimisers ~/.julia/packages/Optimisers/kPdJV/src/interface.jl:110",
      " [4] map",
      "   @ ./tuple.jl:221 [inlined]",
      " [5] _grads!(dict::IdDict{Optimisers.Leaf, Any}, tree::NamedTuple{(:layers, :weight), Tuple{Tuple{}, Optimisers.Leaf{Optimisers.Adam{Float64}, Tuple{Matrix{Float32}, Matrix{Float32}, Tuple{Float64, Float64}}}}}, x::Chain{Tuple{Dense{typeof(relu), Matrix{Float32}, Vector{Float32}}, Dense{typeof(relu), Matrix{Float32}, Vector{Float32}}, Dense{typeof(identity), Matrix{Float32}, Vector{Float32}}}}, x̄s::Zygote.Grads)",
      "   @ Optimisers ~/.julia/packages/Optimisers/kPdJV/src/interface.jl:110",
      " [6] update!(::NamedTuple{(:layers, :weight), Tuple{Tuple{}, Optimisers.Leaf{Optimisers.Adam{Float64}, Tuple{Matrix{Float32}, Matrix{Float32}, Tuple{Float64, Float64}}}}}, ::Chain{Tuple{Dense{typeof(relu), Matrix{Float32}, Vector{Float32}}, Dense{typeof(relu), Matrix{Float32}, Vector{Float32}}, Dense{typeof(identity), Matrix{Float32}, Vector{Float32}}}}, ::Zygote.Grads)",
      "   @ Optimisers ~/.julia/packages/Optimisers/kPdJV/src/interface.jl:69",
      " [7] top-level scope",
      "   @ In[53]:1",
      " [8] eval",
      "   @ ./boot.jl:368 [inlined]",
      " [9] include_string(mapexpr::typeof(REPL.softscope), mod::Module, code::String, filename::String)",
      "   @ Base ./loading.jl:1428"
     ]
    }
   ],
   "source": [
    "Flux.update!(Flux.setup(ADAM(0.01), m), m, gs)"
   ]
  },
  {
   "cell_type": "markdown",
   "id": "c7beff43",
   "metadata": {},
   "source": [
    "## MTL Split Layers"
   ]
  },
  {
   "cell_type": "code",
   "execution_count": 36,
   "id": "fa8838a1",
   "metadata": {},
   "outputs": [],
   "source": [
    "using Fluxperimental"
   ]
  },
  {
   "cell_type": "code",
   "execution_count": 37,
   "id": "d1d0984d",
   "metadata": {},
   "outputs": [
    {
     "data": {
      "text/plain": [
       "Chain(\n",
       "  Dense(3 => 5),                        \u001b[90m# 20 parameters\u001b[39m\n",
       "  Split(\n",
       "    Tuple(\n",
       "      Dense(5 => 1, tanh),              \u001b[90m# 6 parameters\u001b[39m\n",
       "      Dense(5 => 1, tanh),              \u001b[90m# 6 parameters\u001b[39m\n",
       "    ),\n",
       "  ),\n",
       ") \u001b[90m                  # Total: 6 arrays, \u001b[39m32 parameters, 576 bytes."
      ]
     },
     "execution_count": 37,
     "metadata": {},
     "output_type": "execute_result"
    }
   ],
   "source": [
    "model = Chain(\n",
    "              Dense(3 => 5),\n",
    "              Split(Dense(5 => 1, tanh), Dense(5 => 1, tanh))\n",
    "        )"
   ]
  },
  {
   "cell_type": "code",
   "execution_count": 40,
   "id": "7ad67924",
   "metadata": {},
   "outputs": [
    {
     "data": {
      "text/plain": [
       "Tuple{Matrix{Float64}, Matrix{Float64}}"
      ]
     },
     "execution_count": 40,
     "metadata": {},
     "output_type": "execute_result"
    }
   ],
   "source": [
    "xs = randn(3, 4)\n",
    "ypred = model(xs)\n",
    "typeof(ypred)"
   ]
  },
  {
   "cell_type": "code",
   "execution_count": null,
   "id": "75ff83f5",
   "metadata": {},
   "outputs": [],
   "source": []
  }
 ],
 "metadata": {
  "kernelspec": {
   "display_name": "Julia 1.8.2",
   "language": "julia",
   "name": "julia-1.8"
  },
  "language_info": {
   "file_extension": ".jl",
   "mimetype": "application/julia",
   "name": "julia",
   "version": "1.8.2"
  }
 },
 "nbformat": 4,
 "nbformat_minor": 5
}
