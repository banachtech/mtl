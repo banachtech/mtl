{
 "cells": [
  {
   "cell_type": "code",
   "execution_count": 1,
   "id": "3cb6c934",
   "metadata": {},
   "outputs": [],
   "source": [
    "using Flux"
   ]
  },
  {
   "cell_type": "markdown",
   "id": "77340645",
   "metadata": {},
   "source": [
    "## "
   ]
  },
  {
   "cell_type": "code",
   "execution_count": 2,
   "id": "d4102ab4",
   "metadata": {},
   "outputs": [],
   "source": [
    "struct Affine\n",
    "  W\n",
    "  b\n",
    "end"
   ]
  },
  {
   "cell_type": "code",
   "execution_count": 3,
   "id": "d6e6d72a",
   "metadata": {},
   "outputs": [
    {
     "data": {
      "text/plain": [
       "Affine"
      ]
     },
     "execution_count": 3,
     "metadata": {},
     "output_type": "execute_result"
    }
   ],
   "source": [
    "Affine(in::Integer, out::Integer) =\n",
    "  Affine(randn(out, in), randn(out))"
   ]
  },
  {
   "cell_type": "code",
   "execution_count": 4,
   "id": "ed016089",
   "metadata": {},
   "outputs": [],
   "source": [
    "(m::Affine)(x) = m.W * x .+ m.b"
   ]
  },
  {
   "cell_type": "code",
   "execution_count": 5,
   "id": "0c9b0f30",
   "metadata": {},
   "outputs": [
    {
     "data": {
      "text/plain": [
       "Affine([-1.3998924910546415 -0.8346975821558497 … -0.4713583615515866 0.5470560860447551], [2.8189807034404044])"
      ]
     },
     "execution_count": 5,
     "metadata": {},
     "output_type": "execute_result"
    }
   ],
   "source": [
    "a = Affine(5,1)"
   ]
  },
  {
   "cell_type": "code",
   "execution_count": 6,
   "id": "f8fcd0ee",
   "metadata": {},
   "outputs": [
    {
     "data": {
      "text/plain": [
       "1×2 Matrix{Float64}:\n",
       " 1.43119  1.253"
      ]
     },
     "execution_count": 6,
     "metadata": {},
     "output_type": "execute_result"
    }
   ],
   "source": [
    "a(rand(5,2))"
   ]
  },
  {
   "cell_type": "code",
   "execution_count": 7,
   "id": "bbaa14d3",
   "metadata": {},
   "outputs": [],
   "source": [
    "Flux.trainable(a::Affine) = (a.W,)"
   ]
  },
  {
   "cell_type": "code",
   "execution_count": 8,
   "id": "18991433",
   "metadata": {},
   "outputs": [
    {
     "data": {
      "text/plain": [
       "Params([[-1.3998924910546415 -0.8346975821558497 … -0.4713583615515866 0.5470560860447551]])"
      ]
     },
     "execution_count": 8,
     "metadata": {},
     "output_type": "execute_result"
    }
   ],
   "source": [
    "ps = Flux.params(a)"
   ]
  },
  {
   "cell_type": "code",
   "execution_count": 9,
   "id": "49dd845c",
   "metadata": {},
   "outputs": [
    {
     "data": {
      "text/plain": [
       "1×100 Matrix{Float64}:\n",
       " 1.16183  0.849308  1.00973  1.53476  …  1.12372  0.680683  0.859187"
      ]
     },
     "execution_count": 9,
     "metadata": {},
     "output_type": "execute_result"
    }
   ],
   "source": [
    "x = rand(5, 100)\n",
    "y = rand(1,5)*x"
   ]
  },
  {
   "cell_type": "code",
   "execution_count": 30,
   "id": "39367ca1",
   "metadata": {},
   "outputs": [
    {
     "data": {
      "text/plain": [
       "Grads(...)"
      ]
     },
     "execution_count": 30,
     "metadata": {},
     "output_type": "execute_result"
    }
   ],
   "source": [
    "gs = Flux.gradient(()->Flux.mse(a(x), y), Flux.params(a))"
   ]
  },
  {
   "cell_type": "code",
   "execution_count": 31,
   "id": "97c7e713",
   "metadata": {},
   "outputs": [
    {
     "data": {
      "text/plain": [
       "1×5 Matrix{Float64}:\n",
       " 0.636324  0.685968  0.904887  0.775993  0.963854"
      ]
     },
     "execution_count": 31,
     "metadata": {},
     "output_type": "execute_result"
    }
   ],
   "source": [
    "gs[a.W]"
   ]
  },
  {
   "cell_type": "markdown",
   "id": "c7beff43",
   "metadata": {},
   "source": [
    "## MTL Split Layers"
   ]
  },
  {
   "cell_type": "code",
   "execution_count": 36,
   "id": "fa8838a1",
   "metadata": {},
   "outputs": [],
   "source": [
    "using Fluxperimental"
   ]
  },
  {
   "cell_type": "code",
   "execution_count": 37,
   "id": "d1d0984d",
   "metadata": {},
   "outputs": [
    {
     "data": {
      "text/plain": [
       "Chain(\n",
       "  Dense(3 => 5),                        \u001b[90m# 20 parameters\u001b[39m\n",
       "  Split(\n",
       "    Tuple(\n",
       "      Dense(5 => 1, tanh),              \u001b[90m# 6 parameters\u001b[39m\n",
       "      Dense(5 => 1, tanh),              \u001b[90m# 6 parameters\u001b[39m\n",
       "    ),\n",
       "  ),\n",
       ") \u001b[90m                  # Total: 6 arrays, \u001b[39m32 parameters, 576 bytes."
      ]
     },
     "execution_count": 37,
     "metadata": {},
     "output_type": "execute_result"
    }
   ],
   "source": [
    "model = Chain(\n",
    "              Dense(3 => 5),\n",
    "              Split(Dense(5 => 1, tanh), Dense(5 => 1, tanh))\n",
    "        )"
   ]
  },
  {
   "cell_type": "code",
   "execution_count": 40,
   "id": "7ad67924",
   "metadata": {},
   "outputs": [
    {
     "data": {
      "text/plain": [
       "Tuple{Matrix{Float64}, Matrix{Float64}}"
      ]
     },
     "execution_count": 40,
     "metadata": {},
     "output_type": "execute_result"
    }
   ],
   "source": [
    "xs = randn(3, 4)\n",
    "ypred = model(xs)\n",
    "typeof(ypred)"
   ]
  },
  {
   "cell_type": "code",
   "execution_count": null,
   "id": "75ff83f5",
   "metadata": {},
   "outputs": [],
   "source": []
  }
 ],
 "metadata": {
  "kernelspec": {
   "display_name": "Julia 1.8.2",
   "language": "julia",
   "name": "julia-1.8"
  },
  "language_info": {
   "file_extension": ".jl",
   "mimetype": "application/julia",
   "name": "julia",
   "version": "1.8.2"
  }
 },
 "nbformat": 4,
 "nbformat_minor": 5
}
